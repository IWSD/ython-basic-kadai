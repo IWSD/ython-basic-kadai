{
  "nbformat": 4,
  "nbformat_minor": 0,
  "metadata": {
    "colab": {
      "provenance": []
    },
    "kernelspec": {
      "name": "python3",
      "display_name": "Python 3"
    },
    "language_info": {
      "name": "python"
    }
  },
  "cells": [
    {
      "cell_type": "code",
      "execution_count": 2,
      "metadata": {
        "colab": {
          "base_uri": "https://localhost:8080/"
        },
        "id": "AtVJNy9ftfsW",
        "outputId": "f696ca42-fdd2-48e3-99ea-865934046c9c"
      },
      "outputs": [
        {
          "output_type": "stream",
          "name": "stdout",
          "text": [
            "11\n"
          ]
        }
      ],
      "source": [
        "print(10+1)"
      ]
    },
    {
      "cell_type": "code",
      "source": [
        "top_length = 10\n",
        "btm_length = 20\n",
        "height = 5\n",
        "\n",
        "square = (top_length + btm_length) * height /2\n",
        "\n",
        "print(str(square) + \"cm2\")"
      ],
      "metadata": {
        "colab": {
          "base_uri": "https://localhost:8080/"
        },
        "id": "mhy5g1RzuDAM",
        "outputId": "218dab01-5fb7-4099-cb91-76eb1af24009"
      },
      "execution_count": 4,
      "outputs": [
        {
          "output_type": "stream",
          "name": "stdout",
          "text": [
            "75.0cm2\n"
          ]
        }
      ]
    },
    {
      "cell_type": "code",
      "source": [
        "array = [\"月曜日は晴れです\", \"火曜日は雨です\", \"水曜日は晴れです\", \"木曜日は晴れです\", \"金曜日は曇りです\", \"土曜日は曇りのち雨です\", \"日曜日は雷雨です\"]\n",
        "print(array[2])\n",
        "\n",
        "dictionary = {\"mon\":\"晴れ\",\"tue\":\"雨\",\"wed\":\"晴れ\",\"thu\":\"晴れ\",\"fri\":\"曇り\",\"sat\":\"曇りのち雨\",\"sun\":\"雷雨\",}\n",
        "print(dictionary[\"wed\"])"
      ],
      "metadata": {
        "colab": {
          "base_uri": "https://localhost:8080/"
        },
        "id": "m4UG3dSf3in_",
        "outputId": "1a91078f-3a14-4c9e-f0c8-de754dec81f9"
      },
      "execution_count": 7,
      "outputs": [
        {
          "output_type": "stream",
          "name": "stdout",
          "text": [
            "水曜日は晴れです\n",
            "晴れ\n"
          ]
        }
      ]
    },
    {
      "cell_type": "markdown",
      "source": [],
      "metadata": {
        "id": "lFtYinLp5F5K"
      }
    },
    {
      "cell_type": "code",
      "source": [
        "var = 10\n",
        "\n",
        "if var % 30 == 0:\n",
        "  print(\"FizzBuzz\")\n",
        "elif var % 3 == 0:\n",
        "  print(\"Fizz\")\n",
        "elif var % 5 == 0:\n",
        "  print(\"Buzz\")\n",
        "else:\n",
        "  print(var)\n"
      ],
      "metadata": {
        "colab": {
          "base_uri": "https://localhost:8080/"
        },
        "id": "V3s_FA8-4gIg",
        "outputId": "ebf7f365-9666-4a64-d16d-4d42d16b0348"
      },
      "execution_count": 12,
      "outputs": [
        {
          "output_type": "stream",
          "name": "stdout",
          "text": [
            "Buzz\n"
          ]
        }
      ]
    },
    {
      "cell_type": "code",
      "source": [
        "array = [\"水\",\"金\",\"地\",\"火\",\"木\",\"土\",\"天\",\"海\",\"冥\"]\n",
        "\n",
        "for array_item in array:\n",
        " print(array_item)\n",
        "\n",
        "i = 0\n",
        "\n",
        "while i < 9:\n",
        "  print(array[i])\n",
        "  i = i +1"
      ],
      "metadata": {
        "colab": {
          "base_uri": "https://localhost:8080/"
        },
        "id": "0U3KOrzT8hBc",
        "outputId": "b9bd01e9-c004-4cad-f58f-0f100bab36cc"
      },
      "execution_count": 27,
      "outputs": [
        {
          "output_type": "stream",
          "name": "stdout",
          "text": [
            "水\n",
            "金\n",
            "地\n",
            "火\n",
            "木\n",
            "土\n",
            "天\n",
            "海\n",
            "冥\n",
            "水\n",
            "金\n",
            "地\n",
            "火\n",
            "木\n",
            "土\n",
            "天\n",
            "海\n",
            "冥\n"
          ]
        }
      ]
    },
    {
      "cell_type": "code",
      "source": [],
      "metadata": {
        "id": "huWlKDZc_Rgg"
      },
      "execution_count": null,
      "outputs": []
    },
    {
      "cell_type": "code",
      "source": [
        "user_names = [\"侍太郎\", \"侍一郎\", \"侍二郎\", \"侍三郎\", \"侍四郎\"]\n",
        "\n",
        "# 配列user_namesの要素を1つずつ順番に出力する\n",
        "for user_name in user_names:\n",
        "    print(user_name)"
      ],
      "metadata": {
        "colab": {
          "base_uri": "https://localhost:8080/"
        },
        "id": "UG6_g-RPEXMh",
        "outputId": "827a78b9-e7f8-4a8f-c8b1-2e9d1f41ff66"
      },
      "execution_count": 23,
      "outputs": [
        {
          "output_type": "stream",
          "name": "stdout",
          "text": [
            "侍太郎\n",
            "侍一郎\n",
            "侍二郎\n",
            "侍三郎\n",
            "侍四郎\n"
          ]
        }
      ]
    },
    {
      "cell_type": "code",
      "source": [
        "\n",
        "def calc_fee(price, tax) :\n",
        "  fee = price * (1 + tax/100)\n",
        "  print(fee)\n",
        "  return fee\n",
        "\n",
        "calc_fee(100, 10)"
      ],
      "metadata": {
        "colab": {
          "base_uri": "https://localhost:8080/"
        },
        "id": "fhkpGhvJ_TGT",
        "outputId": "47573ebc-511e-4201-d6b4-029ccf92857f"
      },
      "execution_count": 2,
      "outputs": [
        {
          "output_type": "stream",
          "name": "stdout",
          "text": [
            "110.00000000000001\n"
          ]
        },
        {
          "output_type": "execute_result",
          "data": {
            "text/plain": [
              "110.00000000000001"
            ]
          },
          "metadata": {},
          "execution_count": 2
        }
      ]
    },
    {
      "cell_type": "code",
      "source": [
        "class User:\n",
        "    # コンストラクタを定義する\n",
        "    def __init__(self, name, age, gender):\n",
        "        self.nameeee = name\n",
        "        self.ageeee = age\n",
        "        self.gendereee = gender\n",
        "\n",
        "# インスタンス化する\n",
        "user = User(\"侍太郎\", 36, \"男性\")\n",
        "\n",
        "# 属性にアクセスし、値を出力する\n",
        "print(user.nameeee)\n",
        "print(user.ageeee)\n",
        "print(user.gendereee)"
      ],
      "metadata": {
        "colab": {
          "base_uri": "https://localhost:8080/"
        },
        "id": "yZGLEl4oPwFX",
        "outputId": "f30f2495-0040-4d68-8740-4c734a4c18b3"
      },
      "execution_count": 7,
      "outputs": [
        {
          "output_type": "stream",
          "name": "stdout",
          "text": [
            "侍太郎\n",
            "36\n",
            "男性\n"
          ]
        }
      ]
    },
    {
      "cell_type": "code",
      "source": [
        "class Human:\n",
        "    def __init__(self, name, age):\n",
        "      self.nameee = name\n",
        "      self.ageee = age\n",
        "\n",
        "    def printinfo(self): # Add self as the first parameter\n",
        "      print(self.nameee) # Correct attribute name\n",
        "      print(self.ageee) # Correct attribute name\n",
        "\n",
        "# Pass the required arguments when creating an instance\n",
        "hito = Human(\"IWS\", 25) # Pass name and age as arguments\n",
        "\n",
        "# Call the portfolio method with parentheses\n",
        "hito.printinfo()"
      ],
      "metadata": {
        "colab": {
          "base_uri": "https://localhost:8080/"
        },
        "id": "hPY-a2wMSe3D",
        "outputId": "881f4265-7101-4027-c2a3-fb26b48c6d44"
      },
      "execution_count": 13,
      "outputs": [
        {
          "output_type": "stream",
          "name": "stdout",
          "text": [
            "IWS\n",
            "25\n"
          ]
        }
      ]
    },
    {
      "cell_type": "code",
      "source": [
        "class Human:\n",
        "    def __init__(self, name, age):\n",
        "      self.nameee = name\n",
        "      self.ageee = age\n",
        "\n",
        "    def printinfo(self): # Add self as the first parameter\n",
        "      print(self.nameee) # Correct attribute name\n",
        "      print(self.ageee) # Correct attribute name\n",
        "\n",
        "    def check_adult(self): # Add self as the first parameter\n",
        "      if self.ageee >= 20:\n",
        "        print(\"大人です\")\n",
        "      else:\n",
        "        print(\"大人ではありません\")\n",
        "\n",
        "# Pass the required arguments when creating an instance\n",
        "hito25 = Human(\"IWS\", 25) # Pass name and age as arguments\n",
        "\n",
        "# Call the portfolio method with parentheses\n",
        "hito25.printinfo()\n",
        "\n",
        "hito10 = Human(\"IWS\", 10)\n",
        "hito10.printinfo()\n",
        "\n",
        "hito30 = Human(\"IWS\", 30)\n",
        "hito30.printinfo()\n",
        "\n",
        "hito25.check_adult()\n",
        "hito10.check_adult()\n",
        "hito30.check_adult()"
      ],
      "metadata": {
        "colab": {
          "base_uri": "https://localhost:8080/"
        },
        "id": "RSHTvoLBEtt6",
        "outputId": "abfcf261-5e26-44b3-c943-600d03112d7e"
      },
      "execution_count": 5,
      "outputs": [
        {
          "output_type": "stream",
          "name": "stdout",
          "text": [
            "IWS\n",
            "25\n",
            "IWS\n",
            "10\n",
            "IWS\n",
            "30\n",
            "大人です\n",
            "大人ではありません\n",
            "大人です\n"
          ]
        }
      ]
    }
  ]
}