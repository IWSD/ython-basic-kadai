{
  "cells": [
    {
      "cell_type": "code",
      "execution_count": 2,
      "metadata": {
        "colab": {
          "base_uri": "https://localhost:8080/"
        },
        "id": "fhkpGhvJ_TGT",
        "outputId": "47573ebc-511e-4201-d6b4-029ccf92857f"
      },
      "outputs": [
        {
          "name": "stdout",
          "output_type": "stream",
          "text": [
            "110.00000000000001\n"
          ]
        },
        {
          "data": {
            "text/plain": [
              "110.00000000000001"
            ]
          },
          "execution_count": 2,
          "metadata": {},
          "output_type": "execute_result"
        }
      ],
      "source": [
        "\n",
        "def calc_fee(price, tax) :\n",
        "  fee = price * (1 + tax/100)\n",
        "  print(fee)\n",
        "  return fee\n",
        "\n",
        "calc_fee(100, 10)"
      ]
    }
  ],
  "metadata": {
    "colab": {
      "provenance": []
    },
    "kernelspec": {
      "display_name": "Python 3",
      "name": "python3"
    },
    "language_info": {
      "name": "python"
    }
  },
  "nbformat": 4,
  "nbformat_minor": 0
}
